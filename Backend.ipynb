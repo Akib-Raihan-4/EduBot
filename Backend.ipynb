{
 "cells": [
  {
   "cell_type": "code",
   "execution_count": null,
   "id": "d495ef20",
   "metadata": {},
   "outputs": [],
   "source": [
    "# pip install -U flask-cors tensorflow nltk\n",
    "# nltk.download('punkt')\n",
    "# nltk.download('wordnet')"
   ]
  },
  {
   "cell_type": "code",
   "execution_count": 1,
   "id": "d0556244",
   "metadata": {},
   "outputs": [],
   "source": [
    "import nltk\n",
    "from nltk.stem import WordNetLemmatizer\n",
    "import pickle\n",
    "import numpy as np\n",
    "import random\n",
    "\n",
    "lemmatizer = WordNetLemmatizer()"
   ]
  },
  {
   "cell_type": "code",
   "execution_count": 2,
   "id": "9405fab1",
   "metadata": {},
   "outputs": [],
   "source": [
    "from tensorflow.keras.models import load_model\n",
    "import json\n",
    "\n",
    "model = load_model('chatbot_model_2.h5')\n",
    "data_file = open('intents.json').read()\n",
    "intents = json.loads(data_file)\n",
    "words = pickle.load(open('words.pkl', 'rb'))\n",
    "classes = pickle.load(open('classes.pkl', 'rb'))"
   ]
  },
  {
   "cell_type": "code",
   "execution_count": 3,
   "id": "bffbfe1c",
   "metadata": {},
   "outputs": [],
   "source": [
    "def clean_up_sentence(sentence):\n",
    "    sentence_words = nltk.word_tokenize(sentence)\n",
    "    sentence_words = [lemmatizer.lemmatize(word.lower()) for word in sentence_words]\n",
    "    print(\"sentence words: \", sentence_words)\n",
    "    return sentence_words"
   ]
  },
  {
   "cell_type": "code",
   "execution_count": 4,
   "id": "123793e1",
   "metadata": {},
   "outputs": [],
   "source": [
    "def bow(sentence, words):\n",
    "    sentence_words = clean_up_sentence(sentence)\n",
    "    bag = [0]*len(words)\n",
    "    \n",
    "    for s in sentence_words:\n",
    "        for i, w in enumerate(words):\n",
    "            if w == s:\n",
    "                bag[i] = 1\n",
    "    return(np.array(bag))"
   ]
  },
  {
   "cell_type": "code",
   "execution_count": 5,
   "id": "9565cc72",
   "metadata": {},
   "outputs": [],
   "source": [
    "def predict_class(sentence, model):\n",
    "    p = bow(sentence, words)\n",
    "    res = model.predict(np.array([p]))[0]\n",
    "    print(\"Res:\",res)\n",
    "    ERROR_THRESHOLD = 0.25\n",
    "    \n",
    "    result = [[i,r] for i,r in enumerate(res) if r>ERROR_THRESHOLD]\n",
    "    print(\"result: \", result)\n",
    "    result.sort(key=lambda x: x[1], reverse= True)\n",
    "    result_list = []\n",
    "    for r in result:\n",
    "        result_list.append({\"intent\": classes[r[0]], \"probability\": str(r[1])})\n",
    "    print(\"result list: \",result_list)\n",
    "        \n",
    "    return result_list"
   ]
  },
  {
   "cell_type": "code",
   "execution_count": 6,
   "id": "b9e5dc93",
   "metadata": {},
   "outputs": [],
   "source": [
    "def getResponse(ints, intents_json):\n",
    "    tag = ints[0]['intent']\n",
    "    list_of_intents = intents_json['intents']\n",
    "    \n",
    "    for i in list_of_intents:\n",
    "        if(i['tag'] == tag):\n",
    "            result = random.choice(i['responses'])\n",
    "    return result"
   ]
  },
  {
   "cell_type": "code",
   "execution_count": 7,
   "id": "732fb7bf",
   "metadata": {},
   "outputs": [],
   "source": [
    "def chatbot_response(msg):\n",
    "    ints = predict_class(msg, model)\n",
    "    try:\n",
    "        res = getResponse(ints, intents)\n",
    "    except:\n",
    "        res = \"I am really sorry, I don't have the knowlegde to answer this.\"\n",
    "    return res\n",
    "    "
   ]
  },
  {
   "cell_type": "code",
   "execution_count": 8,
   "id": "ccb4d64e",
   "metadata": {},
   "outputs": [
    {
     "name": "stdout",
     "output_type": "stream",
     "text": [
      "sentence words:  ['what', 'can', 'you', 'do', '?']\n",
      "1/1 [==============================] - 0s 74ms/step\n",
      "Res: [5.5499876e-11 2.2562983e-07 2.4492470e-09 1.7135552e-13 7.7653724e-14\n",
      " 4.0234647e-09 2.0424840e-09 5.1089575e-08 3.5161101e-08 1.7334700e-09\n",
      " 1.2122756e-09 5.8025451e-10 2.7752083e-08 3.3707386e-07 7.8891240e-09\n",
      " 8.2654923e-09 2.6429905e-08 1.1761605e-11 9.9999893e-01 1.2393508e-10\n",
      " 1.6562544e-09 3.1134869e-07 2.0925439e-09 1.6510256e-12]\n",
      "result:  [[18, 0.9999989]]\n",
      "result list:  [{'intent': 'options', 'probability': '0.9999989'}]\n"
     ]
    },
    {
     "data": {
      "text/plain": [
       "'I am a general-purpose chatbot. Here are some things I can assist you with:\\n\\n1. Answering machine learning questions\\n2. Providing the current date and time\\n3. Setting timers\\n\\nFeel free to ask any questions or make specific requests!'"
      ]
     },
     "execution_count": 8,
     "metadata": {},
     "output_type": "execute_result"
    }
   ],
   "source": [
    "chatbot_response(\"What can you do ?\")"
   ]
  },
  {
   "cell_type": "code",
   "execution_count": 9,
   "id": "0e9a2fa7",
   "metadata": {},
   "outputs": [],
   "source": [
    "from flask import Flask, jsonify\n",
    "from flask_cors import CORS\n",
    "\n",
    "app = Flask(__name__)\n",
    "CORS(app)\n",
    "\n",
    "@app.route(\"/\", methods = ['GET'])\n",
    "def hello():\n",
    "    return jsonify({\"Server\": \"Sucessfully\"})\n",
    "\n",
    "def decrypt(msg):\n",
    "    string = msg\n",
    "    new_string = string.replace(\"+\", \" \")\n",
    "    return new_string\n",
    "\n",
    "@app.route(\"/query/<sentence>\")\n",
    "def query_chatbot(sentence):\n",
    "    dec_msg = decrypt(sentence)\n",
    "    \n",
    "    response = chatbot_response(dec_msg)\n",
    "    \n",
    "    json_obj = jsonify({\"top\":{\"res\": response}})\n",
    "    \n",
    "    return json_obj"
   ]
  },
  {
   "cell_type": "code",
   "execution_count": 10,
   "id": "944a9249",
   "metadata": {},
   "outputs": [],
   "source": [
    "# import logging\n",
    "# from flask import Flask, jsonify\n",
    "# from flask_ngrok import run_with_ngrok\n",
    "# from flask_cors import CORS\n",
    "\n",
    "# app = Flask(__name__)\n",
    "# run_with_ngrok(app)\n",
    "# CORS(app)\n",
    "\n",
    "# @app.route(\"/\", methods = ['GET'])\n",
    "# def index():\n",
    "#     return jsonify({\"Server\": \"Sucessfully\"})\n",
    "\n",
    "# def decrypt(msg):\n",
    "#     string = msg\n",
    "#     new_string = string.replace(\"+\", \" \")\n",
    "#     return new_string\n",
    "\n",
    "# @app.route(\"/query/<sentence>\")\n",
    "# def query_chatbot(sentence):\n",
    "#     dec_msg = decrypt(sentence)\n",
    "    \n",
    "#     response = chatbot_response(dec_msg)\n",
    "    \n",
    "#     json_obj = jsonify({\"top\":{\"res\": response}})\n",
    "    \n",
    "#     return json_obj\n",
    "\n",
    "# if __name__ == '__main__':\n",
    "#     app.run()"
   ]
  },
  {
   "cell_type": "code",
   "execution_count": 11,
   "id": "c7546abc",
   "metadata": {},
   "outputs": [
    {
     "name": "stdout",
     "output_type": "stream",
     "text": [
      " * Serving Flask app '__main__'\n",
      " * Debug mode: off\n"
     ]
    },
    {
     "name": "stderr",
     "output_type": "stream",
     "text": [
      "WARNING: This is a development server. Do not use it in a production deployment. Use a production WSGI server instead.\n",
      " * Running on http://127.0.0.1:5000\n",
      "Press CTRL+C to quit\n"
     ]
    },
    {
     "name": "stdout",
     "output_type": "stream",
     "text": [
      "sentence words:  ['hello']\n",
      "1/1 [==============================] - 0s 16ms/step\n"
     ]
    },
    {
     "name": "stderr",
     "output_type": "stream",
     "text": [
      "127.0.0.1 - - [06/Oct/2023 20:56:59] \"GET /query/Hello HTTP/1.1\" 200 -\n"
     ]
    },
    {
     "name": "stdout",
     "output_type": "stream",
     "text": [
      "Res: [1.1877989e-06 4.6002506e-06 4.8907219e-07 9.8358860e-06 1.9054772e-06\n",
      " 4.4123016e-07 1.6034752e-05 5.5297319e-06 1.6900438e-08 5.4720990e-06\n",
      " 3.0414151e-06 9.9992299e-01 7.2451609e-09 1.2483484e-05 2.4977814e-07\n",
      " 2.2732258e-09 7.1833270e-08 2.0893862e-07 3.9749685e-07 1.3073817e-06\n",
      " 1.0763643e-05 3.7263270e-08 1.2031605e-06 1.6656237e-06]\n",
      "result:  [[11, 0.999923]]\n",
      "result list:  [{'intent': 'greeting', 'probability': '0.999923'}]\n",
      "sentence words:  ['what', 'can', 'you', 'do', '?']\n",
      "1/1 [==============================] - 0s 15ms/step\n"
     ]
    },
    {
     "name": "stderr",
     "output_type": "stream",
     "text": [
      "127.0.0.1 - - [06/Oct/2023 20:57:04] \"GET /query/What%20can%20you%20do%20%3F HTTP/1.1\" 200 -\n"
     ]
    },
    {
     "name": "stdout",
     "output_type": "stream",
     "text": [
      "Res: [5.5499876e-11 2.2562983e-07 2.4492470e-09 1.7135552e-13 7.7653724e-14\n",
      " 4.0234647e-09 2.0424840e-09 5.1089575e-08 3.5161101e-08 1.7334700e-09\n",
      " 1.2122756e-09 5.8025451e-10 2.7752083e-08 3.3707386e-07 7.8891240e-09\n",
      " 8.2654923e-09 2.6429905e-08 1.1761605e-11 9.9999893e-01 1.2393508e-10\n",
      " 1.6562544e-09 3.1134869e-07 2.0925439e-09 1.6510256e-12]\n",
      "result:  [[18, 0.9999989]]\n",
      "result list:  [{'intent': 'options', 'probability': '0.9999989'}]\n"
     ]
    }
   ],
   "source": [
    "app.run()"
   ]
  },
  {
   "cell_type": "code",
   "execution_count": null,
   "id": "d2bb8d75",
   "metadata": {},
   "outputs": [],
   "source": []
  }
 ],
 "metadata": {
  "kernelspec": {
   "display_name": "Python 3 (ipykernel)",
   "language": "python",
   "name": "python3"
  },
  "language_info": {
   "codemirror_mode": {
    "name": "ipython",
    "version": 3
   },
   "file_extension": ".py",
   "mimetype": "text/x-python",
   "name": "python",
   "nbconvert_exporter": "python",
   "pygments_lexer": "ipython3",
   "version": "3.10.11"
  },
  "toc": {
   "base_numbering": 1,
   "nav_menu": {},
   "number_sections": true,
   "sideBar": true,
   "skip_h1_title": false,
   "title_cell": "Table of Contents",
   "title_sidebar": "Contents",
   "toc_cell": false,
   "toc_position": {},
   "toc_section_display": true,
   "toc_window_display": false
  }
 },
 "nbformat": 4,
 "nbformat_minor": 5
}
